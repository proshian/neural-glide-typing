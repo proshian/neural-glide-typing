{
 "cells": [
  {
   "cell_type": "code",
   "execution_count": 13,
   "metadata": {},
   "outputs": [],
   "source": [
    "# Importing required libraries\n",
    "import numpy as np\n",
    "import matplotlib.pyplot as plt\n",
    "import pandas as pd\n",
    "import string\n",
    "\n",
    "\n",
    "\n",
    "row_1 = ['अ','आ','इ','ई','उ','ऊ','ऋ','ए','ऐ','ओ','औ']\n",
    "row_2 = ['क','ख','ग','घ','च','छ','ज','झ','ञ',u'\\u093C',u'\\u0902']\n",
    "row_3 = ['ट','ठ','ड','ढ','ण','त','थ','द','ध','न','ऑ']\n",
    "row_4 = ['प','फ','ब','भ','म','य','र','ल','व','श','ष']\n",
    "row_5 = ['N','स','ह',',','N','D','D','D',u'\\u0901',u'\\u094D','D'] \n",
    "\n",
    "matras = ['ा','ि','ी','ु','ू', 'ृ','े','ै','ो','ौ','ॉ']\n",
    "\n",
    "char_set = row_1+row_2+row_3+row_4+row_5+matras\n",
    "\n",
    "\n",
    "\n",
    "keyboard_char_len = 11\n",
    "keyboard_char_wid = 5\n",
    "\n",
    "samples_per_word = 1\n",
    "num_characters_on_keyboard = 55\n",
    "\n",
    "keyboard_rows = [row_1,row_2,row_3,row_4, row_5]\n",
    "\n",
    "valid_chars_dict={}\n",
    "list_of_all_valid_chars = row_1+row_2+row_3+row_4+row_5+['<e>']\n",
    "list_of_all_valid_chars = list(set(list_of_all_valid_chars))\n",
    "list_of_all_valid_chars.sort()\n",
    "for i in range(len(list_of_all_valid_chars)):\n",
    "    if not list_of_all_valid_chars[i] in valid_chars_dict:\n",
    "        valid_chars_dict[list_of_all_valid_chars[i]]=i\n",
    "\n",
    "for i in range(len(matras)):\n",
    "    valid_chars_dict[matras[i]] = valid_chars_dict[(row_1+['ऑ'])[i+1]]\n",
    "\n",
    "valid_chars_dict\n",
    "\n",
    "num_characters_on_keyboard_for_ctc_model = len(list_of_all_valid_chars)-1\n",
    "#print(\"num_characters_on_keyboard_for_ctc_model = \",num_characters_on_keyboard_for_ctc_model)\n",
    "\n",
    "actual_keyboard = np.array(keyboard_rows)\n",
    "#print(actual_keyboard)\n",
    "\n",
    "def make_keyboard(keyboard_rows, res):\n",
    "    board = np.zeros((15,30), dtype='<U1')\n",
    "    for k in range(5):\n",
    "        row = keyboard_rows[k]\n",
    "        for i in range(len(row)):\n",
    "            board[k*res:(k+1)*res,res*i:res*(i+1)] = row[i]\n",
    "    return board\n",
    "\n",
    "keyboard_full_size = make_keyboard(keyboard_rows, 3)"
   ]
  },
  {
   "cell_type": "markdown",
   "metadata": {},
   "source": [
    "# Что-то у них не сходится... Вроде клавитаура должны бть 15 x 33, а у них 13 x 30 "
   ]
  },
  {
   "cell_type": "code",
   "execution_count": null,
   "metadata": {},
   "outputs": [],
   "source": []
  },
  {
   "cell_type": "code",
   "execution_count": null,
   "metadata": {},
   "outputs": [],
   "source": []
  },
  {
   "cell_type": "code",
   "execution_count": 16,
   "metadata": {},
   "outputs": [
    {
     "data": {
      "text/plain": [
       "30"
      ]
     },
     "execution_count": 16,
     "metadata": {},
     "output_type": "execute_result"
    }
   ],
   "source": [
    "len(keyboard_full_size[0])"
   ]
  },
  {
   "cell_type": "code",
   "execution_count": 40,
   "metadata": {},
   "outputs": [
    {
     "data": {
      "text/plain": [
       "array(['अ', 'अ', 'अ', 'आ', 'आ', 'आ', 'इ', 'इ', 'इ', 'ई', 'ई', 'ई', 'उ',\n",
       "       'उ', 'उ', 'ऊ', 'ऊ', 'ऊ', 'ऋ', 'ऋ', 'ऋ', 'ए', 'ए', 'ए', 'ऐ', 'ऐ',\n",
       "       'ऐ', 'ओ', 'ओ', 'ओ'], dtype='<U1')"
      ]
     },
     "execution_count": 40,
     "metadata": {},
     "output_type": "execute_result"
    }
   ],
   "source": [
    "row_1_without_last = row_1[:-1]\n",
    "keyboard_full_size[0] "
   ]
  },
  {
   "cell_type": "code",
   "execution_count": 45,
   "metadata": {},
   "outputs": [],
   "source": [
    "row_1_without_last__full_size_labels = np.array([ch for ch in row_1_without_last for _ in range(3)], dtype='<U1')\n",
    "row_1__full_size_labels = np.array([ch for ch in row_1 for _ in range(3)], dtype='<U1')"
   ]
  },
  {
   "cell_type": "code",
   "execution_count": 46,
   "metadata": {},
   "outputs": [
    {
     "data": {
      "text/plain": [
       "True"
      ]
     },
     "execution_count": 46,
     "metadata": {},
     "output_type": "execute_result"
    }
   ],
   "source": [
    "np.all(row_1_without_last__full_size_labels == keyboard_full_size[0])"
   ]
  },
  {
   "cell_type": "code",
   "execution_count": 49,
   "metadata": {},
   "outputs": [
    {
     "name": "stderr",
     "output_type": "stream",
     "text": [
      "C:\\Users\\proshian\\AppData\\Local\\Temp\\ipykernel_5656\\1443840275.py:1: FutureWarning: elementwise comparison failed; returning scalar instead, but in the future will perform elementwise comparison\n",
      "  row_1__full_size_labels == keyboard_full_size[0]\n"
     ]
    },
    {
     "data": {
      "text/plain": [
       "False"
      ]
     },
     "execution_count": 49,
     "metadata": {},
     "output_type": "execute_result"
    }
   ],
   "source": [
    "row_1__full_size_labels == keyboard_full_size[0]"
   ]
  },
  {
   "cell_type": "code",
   "execution_count": null,
   "metadata": {},
   "outputs": [],
   "source": []
  }
 ],
 "metadata": {
  "kernelspec": {
   "display_name": "Python 3",
   "language": "python",
   "name": "python3"
  },
  "language_info": {
   "codemirror_mode": {
    "name": "ipython",
    "version": 3
   },
   "file_extension": ".py",
   "mimetype": "text/x-python",
   "name": "python",
   "nbconvert_exporter": "python",
   "pygments_lexer": "ipython3",
   "version": "3.11.5"
  }
 },
 "nbformat": 4,
 "nbformat_minor": 2
}
